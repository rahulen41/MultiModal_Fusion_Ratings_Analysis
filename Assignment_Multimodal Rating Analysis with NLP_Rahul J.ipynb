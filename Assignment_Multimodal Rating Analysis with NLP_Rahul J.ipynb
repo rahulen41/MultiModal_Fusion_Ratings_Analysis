{
 "cells": [
  {
   "cell_type": "markdown",
   "id": "d3b7817e-05b8-4ed4-be0a-d85051d74041",
   "metadata": {},
   "source": [
    "## Multimodal Rating Analysis with NLP"
   ]
  },
  {
   "cell_type": "raw",
   "id": "ead54086-76d7-4d8c-8b6c-98dee314eb70",
   "metadata": {},
   "source": [
    "This analysis focuses on predicting credit ratings by combining structured financial market data with unstructured textual information using Natural Language Processing (NLP).\n",
    "\n",
    "Here, end-to-end pipeline implemented by covering the required steps like data cleaning, feature engineering, modeling, and interpretation.\n",
    "\n",
    "With NLP integration, Cleaned and lemmatized the financial text data. Extracted TF-IDF features to represent text numerically. This includes the sentiment polarity and subjectivity scores from TextBlob to enrich the feature set.\n",
    "\n",
    "In this analysis, three models are trained: Structured-only, Text-only (NLP features) and combined model using both structured and unstructured data.\n",
    "The combined model outperformed the individual models, demonstrating the value of integrating textual insights.\n",
    "\n",
    "Here, SHAP values used to interpret model predictions and understand feature impact. Also, Plotted sentiment vs. rating, showing that more negative sentiment was generally linked with lower ratings.\n",
    "\n",
    "Textual sentiment in financial commentary can act as a leading signal for rating downgrades. Combining market data with NLP leads to more accurate and explainable credit risk predictions."
   ]
  },
  {
   "cell_type": "markdown",
   "id": "d0948f3d-2d62-4bb1-8437-daf59e8b339d",
   "metadata": {},
   "source": [
    "### A. Data Exploration & Cleaning:"
   ]
  },
  {
   "cell_type": "markdown",
   "id": "de14ab37-4587-415f-a775-5b06e9852d1c",
   "metadata": {},
   "source": [
    "#### 1A. Load & Inspect the Data:"
   ]
  },
  {
   "cell_type": "code",
   "execution_count": 1,
   "id": "83a16483-ff15-4c80-a985-72b1f02b868c",
   "metadata": {},
   "outputs": [],
   "source": [
    "import pandas as pd\n",
    "import numpy as np\n",
    "import matplotlib.pyplot as plt\n",
    "import seaborn as sns\n",
    "from sklearn.preprocessing import LabelEncoder, StandardScaler"
   ]
  },
  {
   "cell_type": "code",
   "execution_count": 2,
   "id": "3497758c-e1e3-4f2b-9c0c-ceb4ae0f0b1a",
   "metadata": {},
   "outputs": [
    {
     "data": {
      "text/html": [
       "<div>\n",
       "<style scoped>\n",
       "    .dataframe tbody tr th:only-of-type {\n",
       "        vertical-align: middle;\n",
       "    }\n",
       "\n",
       "    .dataframe tbody tr th {\n",
       "        vertical-align: top;\n",
       "    }\n",
       "\n",
       "    .dataframe thead th {\n",
       "        text-align: right;\n",
       "    }\n",
       "</style>\n",
       "<table border=\"1\" class=\"dataframe\">\n",
       "  <thead>\n",
       "    <tr style=\"text-align: right;\">\n",
       "      <th></th>\n",
       "      <th>RATING_TYPE</th>\n",
       "      <th>Rating</th>\n",
       "      <th>FundaIndxint</th>\n",
       "      <th>FundaIndxsga</th>\n",
       "      <th>monthvwretd</th>\n",
       "      <th>monthvwretx</th>\n",
       "      <th>monthewretd</th>\n",
       "      <th>monthewretx</th>\n",
       "      <th>monthsprtrn</th>\n",
       "      <th>monthspindx</th>\n",
       "      <th>...</th>\n",
       "      <th>at_turn</th>\n",
       "      <th>rect_turn</th>\n",
       "      <th>pay_turn</th>\n",
       "      <th>sale_invcap</th>\n",
       "      <th>sale_equity</th>\n",
       "      <th>rd_sale</th>\n",
       "      <th>adv_sale</th>\n",
       "      <th>staff_sale</th>\n",
       "      <th>accrual</th>\n",
       "      <th>string_values</th>\n",
       "    </tr>\n",
       "  </thead>\n",
       "  <tbody>\n",
       "    <tr>\n",
       "      <th>0</th>\n",
       "      <td>Fitch</td>\n",
       "      <td>A+</td>\n",
       "      <td>0.150659</td>\n",
       "      <td>-0.420047</td>\n",
       "      <td>-0.846934</td>\n",
       "      <td>0.560226</td>\n",
       "      <td>0.579303</td>\n",
       "      <td>-0.578314</td>\n",
       "      <td>-0.225006</td>\n",
       "      <td>-0.415867</td>\n",
       "      <td>...</td>\n",
       "      <td>-0.810215</td>\n",
       "      <td>0.308114</td>\n",
       "      <td>-0.596329</td>\n",
       "      <td>-0.235425</td>\n",
       "      <td>-0.456676</td>\n",
       "      <td>1.878286</td>\n",
       "      <td>-1.338060</td>\n",
       "      <td>0.862565</td>\n",
       "      <td>0.822648</td>\n",
       "      <td>Challenges remain in the supply chain, but str...</td>\n",
       "    </tr>\n",
       "    <tr>\n",
       "      <th>1</th>\n",
       "      <td>Moody's</td>\n",
       "      <td>BB</td>\n",
       "      <td>-0.015715</td>\n",
       "      <td>0.139204</td>\n",
       "      <td>-0.045250</td>\n",
       "      <td>-0.912128</td>\n",
       "      <td>0.497292</td>\n",
       "      <td>-0.910558</td>\n",
       "      <td>1.207592</td>\n",
       "      <td>-0.104050</td>\n",
       "      <td>...</td>\n",
       "      <td>1.201837</td>\n",
       "      <td>-0.469586</td>\n",
       "      <td>0.925473</td>\n",
       "      <td>-0.021617</td>\n",
       "      <td>-0.410984</td>\n",
       "      <td>1.426555</td>\n",
       "      <td>-1.121401</td>\n",
       "      <td>0.853764</td>\n",
       "      <td>0.978653</td>\n",
       "      <td>The company reported a steady increase in reve...</td>\n",
       "    </tr>\n",
       "    <tr>\n",
       "      <th>2</th>\n",
       "      <td>Fitch</td>\n",
       "      <td>BB</td>\n",
       "      <td>-1.330074</td>\n",
       "      <td>0.001814</td>\n",
       "      <td>-2.564342</td>\n",
       "      <td>0.997115</td>\n",
       "      <td>0.762847</td>\n",
       "      <td>-0.870865</td>\n",
       "      <td>0.230487</td>\n",
       "      <td>0.515273</td>\n",
       "      <td>...</td>\n",
       "      <td>0.578919</td>\n",
       "      <td>-0.764621</td>\n",
       "      <td>-1.209669</td>\n",
       "      <td>1.463682</td>\n",
       "      <td>-0.825739</td>\n",
       "      <td>-2.171165</td>\n",
       "      <td>-0.533031</td>\n",
       "      <td>-0.615333</td>\n",
       "      <td>-0.302474</td>\n",
       "      <td>The company reported a steady increase in reve...</td>\n",
       "    </tr>\n",
       "    <tr>\n",
       "      <th>3</th>\n",
       "      <td>Fitch</td>\n",
       "      <td>BBB</td>\n",
       "      <td>-0.025288</td>\n",
       "      <td>0.755935</td>\n",
       "      <td>1.142726</td>\n",
       "      <td>-0.235319</td>\n",
       "      <td>0.637967</td>\n",
       "      <td>-1.611961</td>\n",
       "      <td>0.432309</td>\n",
       "      <td>1.194182</td>\n",
       "      <td>...</td>\n",
       "      <td>-0.067498</td>\n",
       "      <td>0.476174</td>\n",
       "      <td>0.845948</td>\n",
       "      <td>-1.749978</td>\n",
       "      <td>0.811008</td>\n",
       "      <td>1.155982</td>\n",
       "      <td>-1.482237</td>\n",
       "      <td>0.000229</td>\n",
       "      <td>0.957513</td>\n",
       "      <td>The company reported a steady increase in reve...</td>\n",
       "    </tr>\n",
       "    <tr>\n",
       "      <th>4</th>\n",
       "      <td>Moody's</td>\n",
       "      <td>AA</td>\n",
       "      <td>1.343168</td>\n",
       "      <td>1.933543</td>\n",
       "      <td>-1.896747</td>\n",
       "      <td>0.467780</td>\n",
       "      <td>-0.442432</td>\n",
       "      <td>1.349705</td>\n",
       "      <td>0.541002</td>\n",
       "      <td>0.096545</td>\n",
       "      <td>...</td>\n",
       "      <td>0.795701</td>\n",
       "      <td>0.116367</td>\n",
       "      <td>0.125466</td>\n",
       "      <td>1.560257</td>\n",
       "      <td>-0.936244</td>\n",
       "      <td>0.578200</td>\n",
       "      <td>-1.154929</td>\n",
       "      <td>0.531278</td>\n",
       "      <td>0.506149</td>\n",
       "      <td>The company reported a steady increase in reve...</td>\n",
       "    </tr>\n",
       "  </tbody>\n",
       "</table>\n",
       "<p>5 rows × 154 columns</p>\n",
       "</div>"
      ],
      "text/plain": [
       "  RATING_TYPE Rating  FundaIndxint  FundaIndxsga  monthvwretd  monthvwretx  \\\n",
       "0       Fitch     A+      0.150659     -0.420047    -0.846934     0.560226   \n",
       "1     Moody's     BB     -0.015715      0.139204    -0.045250    -0.912128   \n",
       "2       Fitch     BB     -1.330074      0.001814    -2.564342     0.997115   \n",
       "3       Fitch    BBB     -0.025288      0.755935     1.142726    -0.235319   \n",
       "4     Moody's     AA      1.343168      1.933543    -1.896747     0.467780   \n",
       "\n",
       "   monthewretd  monthewretx  monthsprtrn  monthspindx  ...   at_turn  \\\n",
       "0     0.579303    -0.578314    -0.225006    -0.415867  ... -0.810215   \n",
       "1     0.497292    -0.910558     1.207592    -0.104050  ...  1.201837   \n",
       "2     0.762847    -0.870865     0.230487     0.515273  ...  0.578919   \n",
       "3     0.637967    -1.611961     0.432309     1.194182  ... -0.067498   \n",
       "4    -0.442432     1.349705     0.541002     0.096545  ...  0.795701   \n",
       "\n",
       "   rect_turn  pay_turn  sale_invcap  sale_equity   rd_sale  adv_sale  \\\n",
       "0   0.308114 -0.596329    -0.235425    -0.456676  1.878286 -1.338060   \n",
       "1  -0.469586  0.925473    -0.021617    -0.410984  1.426555 -1.121401   \n",
       "2  -0.764621 -1.209669     1.463682    -0.825739 -2.171165 -0.533031   \n",
       "3   0.476174  0.845948    -1.749978     0.811008  1.155982 -1.482237   \n",
       "4   0.116367  0.125466     1.560257    -0.936244  0.578200 -1.154929   \n",
       "\n",
       "   staff_sale   accrual                                      string_values  \n",
       "0    0.862565  0.822648  Challenges remain in the supply chain, but str...  \n",
       "1    0.853764  0.978653  The company reported a steady increase in reve...  \n",
       "2   -0.615333 -0.302474  The company reported a steady increase in reve...  \n",
       "3    0.000229  0.957513  The company reported a steady increase in reve...  \n",
       "4    0.531278  0.506149  The company reported a steady increase in reve...  \n",
       "\n",
       "[5 rows x 154 columns]"
      ]
     },
     "execution_count": 2,
     "metadata": {},
     "output_type": "execute_result"
    }
   ],
   "source": [
    "# Load dataset\n",
    "df = pd.read_excel(\"https://github.com/Banking-Analytics-Lab/MultimodalFusionRatings/raw/main/Data/Artificial_Data.xlsx\")\n",
    "df.head()"
   ]
  },
  {
   "cell_type": "code",
   "execution_count": 3,
   "id": "fedf6b6b-1c04-4d94-ae67-ad23c2f7c0a2",
   "metadata": {},
   "outputs": [
    {
     "name": "stdout",
     "output_type": "stream",
     "text": [
      "<class 'pandas.core.frame.DataFrame'>\n",
      "RangeIndex: 100 entries, 0 to 99\n",
      "Columns: 154 entries, RATING_TYPE to string_values\n",
      "dtypes: float64(151), object(3)\n",
      "memory usage: 120.4+ KB\n"
     ]
    },
    {
     "data": {
      "text/html": [
       "<div>\n",
       "<style scoped>\n",
       "    .dataframe tbody tr th:only-of-type {\n",
       "        vertical-align: middle;\n",
       "    }\n",
       "\n",
       "    .dataframe tbody tr th {\n",
       "        vertical-align: top;\n",
       "    }\n",
       "\n",
       "    .dataframe thead th {\n",
       "        text-align: right;\n",
       "    }\n",
       "</style>\n",
       "<table border=\"1\" class=\"dataframe\">\n",
       "  <thead>\n",
       "    <tr style=\"text-align: right;\">\n",
       "      <th></th>\n",
       "      <th>RATING_TYPE</th>\n",
       "      <th>Rating</th>\n",
       "      <th>FundaIndxint</th>\n",
       "      <th>FundaIndxsga</th>\n",
       "      <th>monthvwretd</th>\n",
       "      <th>monthvwretx</th>\n",
       "      <th>monthewretd</th>\n",
       "      <th>monthewretx</th>\n",
       "      <th>monthsprtrn</th>\n",
       "      <th>monthspindx</th>\n",
       "      <th>...</th>\n",
       "      <th>at_turn</th>\n",
       "      <th>rect_turn</th>\n",
       "      <th>pay_turn</th>\n",
       "      <th>sale_invcap</th>\n",
       "      <th>sale_equity</th>\n",
       "      <th>rd_sale</th>\n",
       "      <th>adv_sale</th>\n",
       "      <th>staff_sale</th>\n",
       "      <th>accrual</th>\n",
       "      <th>string_values</th>\n",
       "    </tr>\n",
       "  </thead>\n",
       "  <tbody>\n",
       "    <tr>\n",
       "      <th>count</th>\n",
       "      <td>100</td>\n",
       "      <td>100</td>\n",
       "      <td>100.000000</td>\n",
       "      <td>100.000000</td>\n",
       "      <td>100.000000</td>\n",
       "      <td>100.000000</td>\n",
       "      <td>100.000000</td>\n",
       "      <td>100.000000</td>\n",
       "      <td>100.000000</td>\n",
       "      <td>100.000000</td>\n",
       "      <td>...</td>\n",
       "      <td>100.000000</td>\n",
       "      <td>100.000000</td>\n",
       "      <td>100.000000</td>\n",
       "      <td>100.000000</td>\n",
       "      <td>100.000000</td>\n",
       "      <td>100.000000</td>\n",
       "      <td>100.000000</td>\n",
       "      <td>100.000000</td>\n",
       "      <td>100.000000</td>\n",
       "      <td>100</td>\n",
       "    </tr>\n",
       "    <tr>\n",
       "      <th>unique</th>\n",
       "      <td>3</td>\n",
       "      <td>8</td>\n",
       "      <td>NaN</td>\n",
       "      <td>NaN</td>\n",
       "      <td>NaN</td>\n",
       "      <td>NaN</td>\n",
       "      <td>NaN</td>\n",
       "      <td>NaN</td>\n",
       "      <td>NaN</td>\n",
       "      <td>NaN</td>\n",
       "      <td>...</td>\n",
       "      <td>NaN</td>\n",
       "      <td>NaN</td>\n",
       "      <td>NaN</td>\n",
       "      <td>NaN</td>\n",
       "      <td>NaN</td>\n",
       "      <td>NaN</td>\n",
       "      <td>NaN</td>\n",
       "      <td>NaN</td>\n",
       "      <td>NaN</td>\n",
       "      <td>5</td>\n",
       "    </tr>\n",
       "    <tr>\n",
       "      <th>top</th>\n",
       "      <td>S&amp;P</td>\n",
       "      <td>BBB</td>\n",
       "      <td>NaN</td>\n",
       "      <td>NaN</td>\n",
       "      <td>NaN</td>\n",
       "      <td>NaN</td>\n",
       "      <td>NaN</td>\n",
       "      <td>NaN</td>\n",
       "      <td>NaN</td>\n",
       "      <td>NaN</td>\n",
       "      <td>...</td>\n",
       "      <td>NaN</td>\n",
       "      <td>NaN</td>\n",
       "      <td>NaN</td>\n",
       "      <td>NaN</td>\n",
       "      <td>NaN</td>\n",
       "      <td>NaN</td>\n",
       "      <td>NaN</td>\n",
       "      <td>NaN</td>\n",
       "      <td>NaN</td>\n",
       "      <td>The company reported a steady increase in reve...</td>\n",
       "    </tr>\n",
       "    <tr>\n",
       "      <th>freq</th>\n",
       "      <td>36</td>\n",
       "      <td>18</td>\n",
       "      <td>NaN</td>\n",
       "      <td>NaN</td>\n",
       "      <td>NaN</td>\n",
       "      <td>NaN</td>\n",
       "      <td>NaN</td>\n",
       "      <td>NaN</td>\n",
       "      <td>NaN</td>\n",
       "      <td>NaN</td>\n",
       "      <td>...</td>\n",
       "      <td>NaN</td>\n",
       "      <td>NaN</td>\n",
       "      <td>NaN</td>\n",
       "      <td>NaN</td>\n",
       "      <td>NaN</td>\n",
       "      <td>NaN</td>\n",
       "      <td>NaN</td>\n",
       "      <td>NaN</td>\n",
       "      <td>NaN</td>\n",
       "      <td>31</td>\n",
       "    </tr>\n",
       "    <tr>\n",
       "      <th>mean</th>\n",
       "      <td>NaN</td>\n",
       "      <td>NaN</td>\n",
       "      <td>-0.067201</td>\n",
       "      <td>0.075317</td>\n",
       "      <td>0.010728</td>\n",
       "      <td>0.127477</td>\n",
       "      <td>0.093248</td>\n",
       "      <td>0.032180</td>\n",
       "      <td>-0.026623</td>\n",
       "      <td>0.107747</td>\n",
       "      <td>...</td>\n",
       "      <td>0.071921</td>\n",
       "      <td>0.105777</td>\n",
       "      <td>0.075999</td>\n",
       "      <td>-0.035098</td>\n",
       "      <td>0.044566</td>\n",
       "      <td>0.039607</td>\n",
       "      <td>0.035657</td>\n",
       "      <td>0.201078</td>\n",
       "      <td>-0.002298</td>\n",
       "      <td>NaN</td>\n",
       "    </tr>\n",
       "    <tr>\n",
       "      <th>std</th>\n",
       "      <td>NaN</td>\n",
       "      <td>NaN</td>\n",
       "      <td>1.017370</td>\n",
       "      <td>1.029466</td>\n",
       "      <td>1.091580</td>\n",
       "      <td>1.093258</td>\n",
       "      <td>1.111350</td>\n",
       "      <td>1.088224</td>\n",
       "      <td>1.025100</td>\n",
       "      <td>0.881458</td>\n",
       "      <td>...</td>\n",
       "      <td>0.903357</td>\n",
       "      <td>0.836632</td>\n",
       "      <td>0.916895</td>\n",
       "      <td>0.883666</td>\n",
       "      <td>0.937523</td>\n",
       "      <td>1.031948</td>\n",
       "      <td>0.949490</td>\n",
       "      <td>0.995136</td>\n",
       "      <td>0.954758</td>\n",
       "      <td>NaN</td>\n",
       "    </tr>\n",
       "    <tr>\n",
       "      <th>min</th>\n",
       "      <td>NaN</td>\n",
       "      <td>NaN</td>\n",
       "      <td>-2.318068</td>\n",
       "      <td>-2.339597</td>\n",
       "      <td>-3.478169</td>\n",
       "      <td>-2.277950</td>\n",
       "      <td>-2.572931</td>\n",
       "      <td>-3.568205</td>\n",
       "      <td>-2.712490</td>\n",
       "      <td>-1.846772</td>\n",
       "      <td>...</td>\n",
       "      <td>-2.141136</td>\n",
       "      <td>-1.918081</td>\n",
       "      <td>-2.441242</td>\n",
       "      <td>-2.041328</td>\n",
       "      <td>-3.104605</td>\n",
       "      <td>-2.445939</td>\n",
       "      <td>-2.180120</td>\n",
       "      <td>-2.290097</td>\n",
       "      <td>-2.240399</td>\n",
       "      <td>NaN</td>\n",
       "    </tr>\n",
       "    <tr>\n",
       "      <th>25%</th>\n",
       "      <td>NaN</td>\n",
       "      <td>NaN</td>\n",
       "      <td>-0.733156</td>\n",
       "      <td>-0.587366</td>\n",
       "      <td>-0.681876</td>\n",
       "      <td>-0.528532</td>\n",
       "      <td>-0.636587</td>\n",
       "      <td>-0.624850</td>\n",
       "      <td>-0.511380</td>\n",
       "      <td>-0.542076</td>\n",
       "      <td>...</td>\n",
       "      <td>-0.536992</td>\n",
       "      <td>-0.474784</td>\n",
       "      <td>-0.455624</td>\n",
       "      <td>-0.558593</td>\n",
       "      <td>-0.587734</td>\n",
       "      <td>-0.700866</td>\n",
       "      <td>-0.555797</td>\n",
       "      <td>-0.500505</td>\n",
       "      <td>-0.576669</td>\n",
       "      <td>NaN</td>\n",
       "    </tr>\n",
       "    <tr>\n",
       "      <th>50%</th>\n",
       "      <td>NaN</td>\n",
       "      <td>NaN</td>\n",
       "      <td>-0.150513</td>\n",
       "      <td>0.100186</td>\n",
       "      <td>0.020146</td>\n",
       "      <td>0.141856</td>\n",
       "      <td>0.208633</td>\n",
       "      <td>0.037285</td>\n",
       "      <td>0.052313</td>\n",
       "      <td>0.076285</td>\n",
       "      <td>...</td>\n",
       "      <td>-0.036914</td>\n",
       "      <td>0.060110</td>\n",
       "      <td>0.099997</td>\n",
       "      <td>-0.036728</td>\n",
       "      <td>0.013978</td>\n",
       "      <td>0.011593</td>\n",
       "      <td>0.026002</td>\n",
       "      <td>0.311479</td>\n",
       "      <td>-0.098740</td>\n",
       "      <td>NaN</td>\n",
       "    </tr>\n",
       "    <tr>\n",
       "      <th>75%</th>\n",
       "      <td>NaN</td>\n",
       "      <td>NaN</td>\n",
       "      <td>0.537932</td>\n",
       "      <td>0.750813</td>\n",
       "      <td>0.613014</td>\n",
       "      <td>0.704034</td>\n",
       "      <td>0.806156</td>\n",
       "      <td>0.824912</td>\n",
       "      <td>0.733167</td>\n",
       "      <td>0.649335</td>\n",
       "      <td>...</td>\n",
       "      <td>0.800664</td>\n",
       "      <td>0.599499</td>\n",
       "      <td>0.687332</td>\n",
       "      <td>0.575864</td>\n",
       "      <td>0.781912</td>\n",
       "      <td>0.661605</td>\n",
       "      <td>0.590220</td>\n",
       "      <td>0.857408</td>\n",
       "      <td>0.687526</td>\n",
       "      <td>NaN</td>\n",
       "    </tr>\n",
       "    <tr>\n",
       "      <th>max</th>\n",
       "      <td>NaN</td>\n",
       "      <td>NaN</td>\n",
       "      <td>3.061095</td>\n",
       "      <td>3.253985</td>\n",
       "      <td>2.539258</td>\n",
       "      <td>2.616700</td>\n",
       "      <td>3.174442</td>\n",
       "      <td>2.760762</td>\n",
       "      <td>1.601238</td>\n",
       "      <td>2.564058</td>\n",
       "      <td>...</td>\n",
       "      <td>2.055849</td>\n",
       "      <td>2.241760</td>\n",
       "      <td>2.641072</td>\n",
       "      <td>2.129482</td>\n",
       "      <td>2.090344</td>\n",
       "      <td>2.702611</td>\n",
       "      <td>2.166460</td>\n",
       "      <td>2.648904</td>\n",
       "      <td>2.113185</td>\n",
       "      <td>NaN</td>\n",
       "    </tr>\n",
       "  </tbody>\n",
       "</table>\n",
       "<p>11 rows × 154 columns</p>\n",
       "</div>"
      ],
      "text/plain": [
       "       RATING_TYPE Rating  FundaIndxint  FundaIndxsga  monthvwretd  \\\n",
       "count          100    100    100.000000    100.000000   100.000000   \n",
       "unique           3      8           NaN           NaN          NaN   \n",
       "top            S&P    BBB           NaN           NaN          NaN   \n",
       "freq            36     18           NaN           NaN          NaN   \n",
       "mean           NaN    NaN     -0.067201      0.075317     0.010728   \n",
       "std            NaN    NaN      1.017370      1.029466     1.091580   \n",
       "min            NaN    NaN     -2.318068     -2.339597    -3.478169   \n",
       "25%            NaN    NaN     -0.733156     -0.587366    -0.681876   \n",
       "50%            NaN    NaN     -0.150513      0.100186     0.020146   \n",
       "75%            NaN    NaN      0.537932      0.750813     0.613014   \n",
       "max            NaN    NaN      3.061095      3.253985     2.539258   \n",
       "\n",
       "        monthvwretx  monthewretd  monthewretx  monthsprtrn  monthspindx  ...  \\\n",
       "count    100.000000   100.000000   100.000000   100.000000   100.000000  ...   \n",
       "unique          NaN          NaN          NaN          NaN          NaN  ...   \n",
       "top             NaN          NaN          NaN          NaN          NaN  ...   \n",
       "freq            NaN          NaN          NaN          NaN          NaN  ...   \n",
       "mean       0.127477     0.093248     0.032180    -0.026623     0.107747  ...   \n",
       "std        1.093258     1.111350     1.088224     1.025100     0.881458  ...   \n",
       "min       -2.277950    -2.572931    -3.568205    -2.712490    -1.846772  ...   \n",
       "25%       -0.528532    -0.636587    -0.624850    -0.511380    -0.542076  ...   \n",
       "50%        0.141856     0.208633     0.037285     0.052313     0.076285  ...   \n",
       "75%        0.704034     0.806156     0.824912     0.733167     0.649335  ...   \n",
       "max        2.616700     3.174442     2.760762     1.601238     2.564058  ...   \n",
       "\n",
       "           at_turn   rect_turn    pay_turn  sale_invcap  sale_equity  \\\n",
       "count   100.000000  100.000000  100.000000   100.000000   100.000000   \n",
       "unique         NaN         NaN         NaN          NaN          NaN   \n",
       "top            NaN         NaN         NaN          NaN          NaN   \n",
       "freq           NaN         NaN         NaN          NaN          NaN   \n",
       "mean      0.071921    0.105777    0.075999    -0.035098     0.044566   \n",
       "std       0.903357    0.836632    0.916895     0.883666     0.937523   \n",
       "min      -2.141136   -1.918081   -2.441242    -2.041328    -3.104605   \n",
       "25%      -0.536992   -0.474784   -0.455624    -0.558593    -0.587734   \n",
       "50%      -0.036914    0.060110    0.099997    -0.036728     0.013978   \n",
       "75%       0.800664    0.599499    0.687332     0.575864     0.781912   \n",
       "max       2.055849    2.241760    2.641072     2.129482     2.090344   \n",
       "\n",
       "           rd_sale    adv_sale  staff_sale     accrual  \\\n",
       "count   100.000000  100.000000  100.000000  100.000000   \n",
       "unique         NaN         NaN         NaN         NaN   \n",
       "top            NaN         NaN         NaN         NaN   \n",
       "freq           NaN         NaN         NaN         NaN   \n",
       "mean      0.039607    0.035657    0.201078   -0.002298   \n",
       "std       1.031948    0.949490    0.995136    0.954758   \n",
       "min      -2.445939   -2.180120   -2.290097   -2.240399   \n",
       "25%      -0.700866   -0.555797   -0.500505   -0.576669   \n",
       "50%       0.011593    0.026002    0.311479   -0.098740   \n",
       "75%       0.661605    0.590220    0.857408    0.687526   \n",
       "max       2.702611    2.166460    2.648904    2.113185   \n",
       "\n",
       "                                            string_values  \n",
       "count                                                 100  \n",
       "unique                                                  5  \n",
       "top     The company reported a steady increase in reve...  \n",
       "freq                                                   31  \n",
       "mean                                                  NaN  \n",
       "std                                                   NaN  \n",
       "min                                                   NaN  \n",
       "25%                                                   NaN  \n",
       "50%                                                   NaN  \n",
       "75%                                                   NaN  \n",
       "max                                                   NaN  \n",
       "\n",
       "[11 rows x 154 columns]"
      ]
     },
     "execution_count": 3,
     "metadata": {},
     "output_type": "execute_result"
    }
   ],
   "source": [
    "## Basic Info\n",
    "df.info()\n",
    "df.describe(include='all')"
   ]
  },
  {
   "cell_type": "code",
   "execution_count": 4,
   "id": "74b1858c-f4b3-40f5-ba61-6cbdbebc9303",
   "metadata": {},
   "outputs": [
    {
     "data": {
      "text/plain": [
       "RATING_TYPE      0\n",
       "Rating           0\n",
       "FundaIndxint     0\n",
       "FundaIndxsga     0\n",
       "monthvwretd      0\n",
       "                ..\n",
       "rd_sale          0\n",
       "adv_sale         0\n",
       "staff_sale       0\n",
       "accrual          0\n",
       "string_values    0\n",
       "Length: 154, dtype: int64"
      ]
     },
     "execution_count": 4,
     "metadata": {},
     "output_type": "execute_result"
    }
   ],
   "source": [
    "# Check missing values\n",
    "df.isnull().sum()"
   ]
  },
  {
   "cell_type": "markdown",
   "id": "12286305-1926-4424-9a54-6ed467865175",
   "metadata": {},
   "source": [
    "#### 2A. Data Preprocessing:"
   ]
  },
  {
   "cell_type": "code",
   "execution_count": 5,
   "id": "4e48b3dd-839d-437c-9e6b-9dc15c7000f2",
   "metadata": {},
   "outputs": [],
   "source": [
    "# Fill missing numerical values with median\n",
    "num_cols = df.select_dtypes(include=[np.number]).columns\n",
    "df[num_cols] = df[num_cols].fillna(df[num_cols].median())"
   ]
  },
  {
   "cell_type": "code",
   "execution_count": 6,
   "id": "e40ae333-6a81-40b6-b17e-426b3abb0aa5",
   "metadata": {},
   "outputs": [],
   "source": [
    "# Fill missing categorical values with mode\n",
    "cat_cols = df.select_dtypes(include=['object']).columns\n",
    "df[cat_cols] = df[cat_cols].fillna(df[cat_cols].mode().iloc[0])"
   ]
  },
  {
   "cell_type": "code",
   "execution_count": 7,
   "id": "82c3e173-fbe8-478a-ac28-a9b16822fc68",
   "metadata": {},
   "outputs": [
    {
     "name": "stderr",
     "output_type": "stream",
     "text": [
      "C:\\Users\\Dell\\AppData\\Local\\Temp\\ipykernel_15096\\1880177326.py:3: PerformanceWarning: DataFrame is highly fragmented.  This is usually the result of calling `frame.insert` many times, which has poor performance.  Consider joining all columns at once using pd.concat(axis=1) instead. To get a de-fragmented frame, use `newframe = frame.copy()`\n",
      "  df['Rating_encoded'] = label_encoder.fit_transform(df['Rating'])\n"
     ]
    }
   ],
   "source": [
    "# Encode Rating column (target)\n",
    "label_encoder = LabelEncoder()\n",
    "df['Rating_encoded'] = label_encoder.fit_transform(df['Rating'])"
   ]
  },
  {
   "cell_type": "code",
   "execution_count": 8,
   "id": "5687218a-51c1-430e-9671-9f0a9f1e5ff1",
   "metadata": {},
   "outputs": [],
   "source": [
    "# Normalize numeric columns\n",
    "scaler = StandardScaler()\n",
    "df[num_cols] = scaler.fit_transform(df[num_cols])"
   ]
  },
  {
   "cell_type": "markdown",
   "id": "885aef69-0bb4-4ea3-9b26-ff8b58fafdd2",
   "metadata": {},
   "source": [
    "### B. NLP Feature Engineering:"
   ]
  },
  {
   "cell_type": "code",
   "execution_count": 9,
   "id": "d2ca3808-2c2d-49e5-99b2-483c3f437444",
   "metadata": {},
   "outputs": [
    {
     "name": "stdout",
     "output_type": "stream",
     "text": [
      "Requirement already satisfied: textblob in c:\\users\\dell\\anaconda3\\lib\\site-packages (0.19.0)\n",
      "Requirement already satisfied: nltk>=3.9 in c:\\users\\dell\\anaconda3\\lib\\site-packages (from textblob) (3.9.1)\n",
      "Requirement already satisfied: click in c:\\users\\dell\\anaconda3\\lib\\site-packages (from nltk>=3.9->textblob) (8.1.7)\n",
      "Requirement already satisfied: joblib in c:\\users\\dell\\anaconda3\\lib\\site-packages (from nltk>=3.9->textblob) (1.4.2)\n",
      "Requirement already satisfied: regex>=2021.8.3 in c:\\users\\dell\\anaconda3\\lib\\site-packages (from nltk>=3.9->textblob) (2024.9.11)\n",
      "Requirement already satisfied: tqdm in c:\\users\\dell\\anaconda3\\lib\\site-packages (from nltk>=3.9->textblob) (4.66.5)\n",
      "Requirement already satisfied: colorama in c:\\users\\dell\\anaconda3\\lib\\site-packages (from click->nltk>=3.9->textblob) (0.4.6)\n"
     ]
    }
   ],
   "source": [
    "!pip install textblob"
   ]
  },
  {
   "cell_type": "code",
   "execution_count": 10,
   "id": "2210755b-831d-4fce-94e4-d13e220b4c1f",
   "metadata": {},
   "outputs": [],
   "source": [
    "import re\n",
    "import nltk\n",
    "from nltk.corpus import stopwords\n",
    "from nltk.stem import WordNetLemmatizer\n",
    "from sklearn.feature_extraction.text import TfidfVectorizer\n",
    "from textblob import TextBlob"
   ]
  },
  {
   "cell_type": "markdown",
   "id": "9d6a93fa-67e9-484a-8cb3-f25fc58a66be",
   "metadata": {},
   "source": [
    "#### 1B. Text Preprocessing:"
   ]
  },
  {
   "cell_type": "code",
   "execution_count": 11,
   "id": "2e0d5847-8bcf-4773-bc5e-5c0ba8a4527e",
   "metadata": {},
   "outputs": [
    {
     "name": "stderr",
     "output_type": "stream",
     "text": [
      "[nltk_data] Downloading package stopwords to\n",
      "[nltk_data]     C:\\Users\\Dell\\AppData\\Roaming\\nltk_data...\n",
      "[nltk_data]   Package stopwords is already up-to-date!\n",
      "[nltk_data] Downloading package wordnet to\n",
      "[nltk_data]     C:\\Users\\Dell\\AppData\\Roaming\\nltk_data...\n",
      "[nltk_data]   Package wordnet is already up-to-date!\n"
     ]
    },
    {
     "data": {
      "text/plain": [
       "True"
      ]
     },
     "execution_count": 11,
     "metadata": {},
     "output_type": "execute_result"
    }
   ],
   "source": [
    "nltk.download('stopwords')\n",
    "nltk.download('wordnet')"
   ]
  },
  {
   "cell_type": "code",
   "execution_count": 12,
   "id": "b9261b5c-6c44-40bd-b906-6e6be7fa5498",
   "metadata": {},
   "outputs": [],
   "source": [
    "stop_words = set(stopwords.words('english'))\n",
    "lemmatizer = WordNetLemmatizer()"
   ]
  },
  {
   "cell_type": "code",
   "execution_count": 13,
   "id": "c352e761-1aec-4e8f-a11b-34a9bcbf116b",
   "metadata": {},
   "outputs": [],
   "source": [
    "def preprocess_text(text):\n",
    "    text = re.sub(r'[^a-zA-Z]', ' ', text)\n",
    "    text = text.lower()\n",
    "    tokens = text.split()\n",
    "    tokens = [lemmatizer.lemmatize(word) for word in tokens if word not in stop_words]\n",
    "    return ' '.join(tokens)"
   ]
  },
  {
   "cell_type": "code",
   "execution_count": 14,
   "id": "d700392b-0be2-4de5-a86f-84716672562c",
   "metadata": {},
   "outputs": [
    {
     "name": "stderr",
     "output_type": "stream",
     "text": [
      "C:\\Users\\Dell\\AppData\\Local\\Temp\\ipykernel_15096\\2580301420.py:2: PerformanceWarning: DataFrame is highly fragmented.  This is usually the result of calling `frame.insert` many times, which has poor performance.  Consider joining all columns at once using pd.concat(axis=1) instead. To get a de-fragmented frame, use `newframe = frame.copy()`\n",
      "  df['clean_text'] = df['string_values'].apply(preprocess_text)\n"
     ]
    }
   ],
   "source": [
    "# Clean text\n",
    "df['clean_text'] = df['string_values'].apply(preprocess_text)"
   ]
  },
  {
   "cell_type": "code",
   "execution_count": 15,
   "id": "9a99fc6e-28bb-4abd-8de2-196afea3a67b",
   "metadata": {},
   "outputs": [
    {
     "name": "stdout",
     "output_type": "stream",
     "text": [
      "0     challenge remain supply chain strategic invest...\n",
      "1     company reported steady increase revenue refle...\n",
      "2     company reported steady increase revenue refle...\n",
      "3     company reported steady increase revenue refle...\n",
      "4     company reported steady increase revenue refle...\n",
      "                            ...                        \n",
      "95    outlook remains positive expected growth domes...\n",
      "96    outlook remains positive expected growth domes...\n",
      "97    challenge remain supply chain strategic invest...\n",
      "98    company reported steady increase revenue refle...\n",
      "99    challenge remain supply chain strategic invest...\n",
      "Name: clean_text, Length: 100, dtype: object\n"
     ]
    }
   ],
   "source": [
    "print(df['clean_text'])"
   ]
  },
  {
   "cell_type": "markdown",
   "id": "711c628b-6c42-4cbb-b052-bd4b576c164a",
   "metadata": {},
   "source": [
    "#### 2B. Text Representation:"
   ]
  },
  {
   "cell_type": "code",
   "execution_count": 16,
   "id": "0deeeeaf-cc1a-42e1-b9a5-c54c5ea93205",
   "metadata": {},
   "outputs": [],
   "source": [
    "# TF-IDF representation\n",
    "tfidf = TfidfVectorizer(max_features=300)\n",
    "tfidf_matrix = tfidf.fit_transform(df['clean_text'])\n",
    "tfidf_df = pd.DataFrame(tfidf_matrix.toarray(), columns=tfidf.get_feature_names_out())"
   ]
  },
  {
   "cell_type": "code",
   "execution_count": 17,
   "id": "a8545eba-31c3-4fc9-8d99-c77b38335cef",
   "metadata": {},
   "outputs": [
    {
     "name": "stdout",
     "output_type": "stream",
     "text": [
      "       chain  challenge  company  cost  debt   demand  despite  domestic  \\\n",
      "0   0.333333   0.333333  0.00000   0.0   0.0  0.00000      0.0  0.000000   \n",
      "1   0.000000   0.000000  0.34833   0.0   0.0  0.34833      0.0  0.000000   \n",
      "2   0.000000   0.000000  0.34833   0.0   0.0  0.34833      0.0  0.000000   \n",
      "3   0.000000   0.000000  0.34833   0.0   0.0  0.34833      0.0  0.000000   \n",
      "4   0.000000   0.000000  0.34833   0.0   0.0  0.34833      0.0  0.000000   \n",
      "..       ...        ...      ...   ...   ...      ...      ...       ...   \n",
      "95  0.000000   0.000000  0.00000   0.0   0.0  0.00000      0.0  0.368679   \n",
      "96  0.000000   0.000000  0.00000   0.0   0.0  0.00000      0.0  0.368679   \n",
      "97  0.333333   0.333333  0.00000   0.0   0.0  0.00000      0.0  0.000000   \n",
      "98  0.000000   0.000000  0.34833   0.0   0.0  0.34833      0.0  0.000000   \n",
      "99  0.333333   0.333333  0.00000   0.0   0.0  0.00000      0.0  0.000000   \n",
      "\n",
      "    driven  earnings  ...  revenue  significantly  solid   steady  strategic  \\\n",
      "0      0.0       0.0  ...  0.00000            0.0    0.0  0.00000   0.333333   \n",
      "1      0.0       0.0  ...  0.34833            0.0    0.0  0.34833   0.000000   \n",
      "2      0.0       0.0  ...  0.34833            0.0    0.0  0.34833   0.000000   \n",
      "3      0.0       0.0  ...  0.34833            0.0    0.0  0.34833   0.000000   \n",
      "4      0.0       0.0  ...  0.34833            0.0    0.0  0.34833   0.000000   \n",
      "..     ...       ...  ...      ...            ...    ...      ...        ...   \n",
      "95     0.0       0.0  ...  0.00000            0.0    0.0  0.00000   0.000000   \n",
      "96     0.0       0.0  ...  0.00000            0.0    0.0  0.00000   0.000000   \n",
      "97     0.0       0.0  ...  0.00000            0.0    0.0  0.00000   0.333333   \n",
      "98     0.0       0.0  ...  0.34833            0.0    0.0  0.34833   0.000000   \n",
      "99     0.0       0.0  ...  0.00000            0.0    0.0  0.00000   0.333333   \n",
      "\n",
      "      strong    supply  tax  volatility  year  \n",
      "0   0.000000  0.333333  0.0         0.0   0.0  \n",
      "1   0.308166  0.000000  0.0         0.0   0.0  \n",
      "2   0.308166  0.000000  0.0         0.0   0.0  \n",
      "3   0.308166  0.000000  0.0         0.0   0.0  \n",
      "4   0.308166  0.000000  0.0         0.0   0.0  \n",
      "..       ...       ...  ...         ...   ...  \n",
      "95  0.000000  0.000000  0.0         0.0   0.0  \n",
      "96  0.000000  0.000000  0.0         0.0   0.0  \n",
      "97  0.000000  0.333333  0.0         0.0   0.0  \n",
      "98  0.308166  0.000000  0.0         0.0   0.0  \n",
      "99  0.000000  0.333333  0.0         0.0   0.0  \n",
      "\n",
      "[100 rows x 46 columns]\n"
     ]
    }
   ],
   "source": [
    "print(tfidf_df)"
   ]
  },
  {
   "cell_type": "markdown",
   "id": "8068ecc3-fc5d-4e01-a9ad-b46057811f47",
   "metadata": {},
   "source": [
    "#### 3B. Sentiment Analysis:"
   ]
  },
  {
   "cell_type": "code",
   "execution_count": 18,
   "id": "2017f3d7-2244-408c-9003-ebef76d1a8f8",
   "metadata": {},
   "outputs": [
    {
     "name": "stderr",
     "output_type": "stream",
     "text": [
      "C:\\Users\\Dell\\AppData\\Local\\Temp\\ipykernel_15096\\3778914468.py:2: PerformanceWarning: DataFrame is highly fragmented.  This is usually the result of calling `frame.insert` many times, which has poor performance.  Consider joining all columns at once using pd.concat(axis=1) instead. To get a de-fragmented frame, use `newframe = frame.copy()`\n",
      "  df['sentiment_polarity'] = df['string_values'].apply(lambda x: TextBlob(x).sentiment.polarity)\n",
      "C:\\Users\\Dell\\AppData\\Local\\Temp\\ipykernel_15096\\3778914468.py:3: PerformanceWarning: DataFrame is highly fragmented.  This is usually the result of calling `frame.insert` many times, which has poor performance.  Consider joining all columns at once using pd.concat(axis=1) instead. To get a de-fragmented frame, use `newframe = frame.copy()`\n",
      "  df['sentiment_subjectivity'] = df['string_values'].apply(lambda x: TextBlob(x).sentiment.subjectivity)\n"
     ]
    }
   ],
   "source": [
    "# Sentiment scores\n",
    "df['sentiment_polarity'] = df['string_values'].apply(lambda x: TextBlob(x).sentiment.polarity)\n",
    "df['sentiment_subjectivity'] = df['string_values'].apply(lambda x: TextBlob(x).sentiment.subjectivity)"
   ]
  },
  {
   "cell_type": "code",
   "execution_count": 19,
   "id": "e069772b-3153-440c-8e57-edb48703585f",
   "metadata": {},
   "outputs": [],
   "source": [
    "# Combine all features\n",
    "structured_features = df[num_cols.tolist() + ['sentiment_polarity', 'sentiment_subjectivity']]\n",
    "combined_features = pd.concat([structured_features, tfidf_df], axis=1)"
   ]
  },
  {
   "cell_type": "markdown",
   "id": "c79425d2-b258-47ae-91d5-d6ab0c151a2e",
   "metadata": {},
   "source": [
    "### C. Predictive Modeling:"
   ]
  },
  {
   "cell_type": "code",
   "execution_count": 20,
   "id": "c891d9d5-2d38-43d2-9236-6aedb4145a09",
   "metadata": {},
   "outputs": [],
   "source": [
    "from sklearn.model_selection import train_test_split\n",
    "from sklearn.ensemble import RandomForestClassifier\n",
    "from sklearn.metrics import classification_report, confusion_matrix"
   ]
  },
  {
   "cell_type": "markdown",
   "id": "5d8a980f-5cc7-4726-9b39-dd7bedbd9ef5",
   "metadata": {},
   "source": [
    "#### 1C. Define Target Variables:"
   ]
  },
  {
   "cell_type": "code",
   "execution_count": 21,
   "id": "7e4ba895-259d-4022-a4df-773a53f4df98",
   "metadata": {},
   "outputs": [],
   "source": [
    "X_structured = structured_features\n",
    "X_text = tfidf_df\n",
    "X_combined = combined_features\n",
    "y = df['Rating_encoded']"
   ]
  },
  {
   "cell_type": "code",
   "execution_count": 22,
   "id": "ddbc4e49-b026-45a7-8276-9e542143427a",
   "metadata": {},
   "outputs": [],
   "source": [
    "# Train/test split\n",
    "X_train_s, X_test_s, y_train, y_test = train_test_split(X_structured, y, test_size=0.2, random_state=42)\n",
    "X_train_t, X_test_t, _, _ = train_test_split(X_text, y, test_size=0.2, random_state=42)\n",
    "X_train_c, X_test_c, _, _ = train_test_split(X_combined, y, test_size=0.2, random_state=42)"
   ]
  },
  {
   "cell_type": "markdown",
   "id": "c215f8ea-edf8-4ba1-9aca-7128a40c0953",
   "metadata": {},
   "source": [
    "#### 2C. Model Development:"
   ]
  },
  {
   "cell_type": "code",
   "execution_count": 23,
   "id": "bba0d368-6de7-4a47-aa48-074f8044eb47",
   "metadata": {},
   "outputs": [
    {
     "name": "stdout",
     "output_type": "stream",
     "text": [
      "Structured Model Performance\n",
      "              precision    recall  f1-score   support\n",
      "\n",
      "           0       1.00      0.33      0.50         3\n",
      "           1       0.00      0.00      0.00         3\n",
      "           2       0.00      0.00      0.00         2\n",
      "           3       0.00      0.00      0.00         4\n",
      "           4       0.00      0.00      0.00         1\n",
      "           5       0.00      0.00      0.00         1\n",
      "           6       0.25      0.25      0.25         4\n",
      "           7       0.00      0.00      0.00         2\n",
      "\n",
      "    accuracy                           0.10        20\n",
      "   macro avg       0.16      0.07      0.09        20\n",
      "weighted avg       0.20      0.10      0.12        20\n",
      "\n"
     ]
    },
    {
     "name": "stderr",
     "output_type": "stream",
     "text": [
      "C:\\Users\\Dell\\anaconda3\\Lib\\site-packages\\sklearn\\metrics\\_classification.py:1531: UndefinedMetricWarning: Precision is ill-defined and being set to 0.0 in labels with no predicted samples. Use `zero_division` parameter to control this behavior.\n",
      "  _warn_prf(average, modifier, f\"{metric.capitalize()} is\", len(result))\n",
      "C:\\Users\\Dell\\anaconda3\\Lib\\site-packages\\sklearn\\metrics\\_classification.py:1531: UndefinedMetricWarning: Precision is ill-defined and being set to 0.0 in labels with no predicted samples. Use `zero_division` parameter to control this behavior.\n",
      "  _warn_prf(average, modifier, f\"{metric.capitalize()} is\", len(result))\n",
      "C:\\Users\\Dell\\anaconda3\\Lib\\site-packages\\sklearn\\metrics\\_classification.py:1531: UndefinedMetricWarning: Precision is ill-defined and being set to 0.0 in labels with no predicted samples. Use `zero_division` parameter to control this behavior.\n",
      "  _warn_prf(average, modifier, f\"{metric.capitalize()} is\", len(result))\n"
     ]
    }
   ],
   "source": [
    "# Structured-only model\n",
    "clf_s = RandomForestClassifier()\n",
    "clf_s.fit(X_train_s, y_train)\n",
    "y_pred_s = clf_s.predict(X_test_s)\n",
    "print(\"Structured Model Performance\")\n",
    "print(classification_report(y_test, y_pred_s))"
   ]
  },
  {
   "cell_type": "code",
   "execution_count": 24,
   "id": "486007ba-41d4-4a4e-8104-f090ffc1e16f",
   "metadata": {},
   "outputs": [
    {
     "name": "stdout",
     "output_type": "stream",
     "text": [
      "\n",
      "Text-Only Model Performance\n",
      "              precision    recall  f1-score   support\n",
      "\n",
      "           0       0.00      0.00      0.00         3\n",
      "           1       0.00      0.00      0.00         3\n",
      "           2       0.00      0.00      0.00         2\n",
      "           3       0.00      0.00      0.00         4\n",
      "           4       0.00      0.00      0.00         1\n",
      "           5       0.00      0.00      0.00         1\n",
      "           6       0.10      0.25      0.14         4\n",
      "           7       0.00      0.00      0.00         2\n",
      "\n",
      "    accuracy                           0.05        20\n",
      "   macro avg       0.01      0.03      0.02        20\n",
      "weighted avg       0.02      0.05      0.03        20\n",
      "\n"
     ]
    },
    {
     "name": "stderr",
     "output_type": "stream",
     "text": [
      "C:\\Users\\Dell\\anaconda3\\Lib\\site-packages\\sklearn\\metrics\\_classification.py:1531: UndefinedMetricWarning: Precision is ill-defined and being set to 0.0 in labels with no predicted samples. Use `zero_division` parameter to control this behavior.\n",
      "  _warn_prf(average, modifier, f\"{metric.capitalize()} is\", len(result))\n",
      "C:\\Users\\Dell\\anaconda3\\Lib\\site-packages\\sklearn\\metrics\\_classification.py:1531: UndefinedMetricWarning: Precision is ill-defined and being set to 0.0 in labels with no predicted samples. Use `zero_division` parameter to control this behavior.\n",
      "  _warn_prf(average, modifier, f\"{metric.capitalize()} is\", len(result))\n",
      "C:\\Users\\Dell\\anaconda3\\Lib\\site-packages\\sklearn\\metrics\\_classification.py:1531: UndefinedMetricWarning: Precision is ill-defined and being set to 0.0 in labels with no predicted samples. Use `zero_division` parameter to control this behavior.\n",
      "  _warn_prf(average, modifier, f\"{metric.capitalize()} is\", len(result))\n"
     ]
    }
   ],
   "source": [
    "# Text-only model\n",
    "clf_t = RandomForestClassifier()\n",
    "clf_t.fit(X_train_t, y_train)\n",
    "y_pred_t = clf_t.predict(X_test_t)\n",
    "print(\"\\nText-Only Model Performance\")\n",
    "print(classification_report(y_test, y_pred_t))"
   ]
  },
  {
   "cell_type": "code",
   "execution_count": 25,
   "id": "4ee27ed6-3a4d-4533-8378-9c4d28ffd1a6",
   "metadata": {},
   "outputs": [
    {
     "name": "stdout",
     "output_type": "stream",
     "text": [
      "\n",
      "Combined Model Performance\n",
      "              precision    recall  f1-score   support\n",
      "\n",
      "           0       0.00      0.00      0.00         3\n",
      "           1       0.50      1.00      0.67         3\n",
      "           2       0.00      0.00      0.00         2\n",
      "           3       0.00      0.00      0.00         4\n",
      "           4       0.00      0.00      0.00         1\n",
      "           5       0.00      0.00      0.00         1\n",
      "           6       0.22      0.50      0.31         4\n",
      "           7       0.00      0.00      0.00         2\n",
      "\n",
      "    accuracy                           0.25        20\n",
      "   macro avg       0.09      0.19      0.12        20\n",
      "weighted avg       0.12      0.25      0.16        20\n",
      "\n"
     ]
    },
    {
     "name": "stderr",
     "output_type": "stream",
     "text": [
      "C:\\Users\\Dell\\anaconda3\\Lib\\site-packages\\sklearn\\metrics\\_classification.py:1531: UndefinedMetricWarning: Precision is ill-defined and being set to 0.0 in labels with no predicted samples. Use `zero_division` parameter to control this behavior.\n",
      "  _warn_prf(average, modifier, f\"{metric.capitalize()} is\", len(result))\n",
      "C:\\Users\\Dell\\anaconda3\\Lib\\site-packages\\sklearn\\metrics\\_classification.py:1531: UndefinedMetricWarning: Precision is ill-defined and being set to 0.0 in labels with no predicted samples. Use `zero_division` parameter to control this behavior.\n",
      "  _warn_prf(average, modifier, f\"{metric.capitalize()} is\", len(result))\n",
      "C:\\Users\\Dell\\anaconda3\\Lib\\site-packages\\sklearn\\metrics\\_classification.py:1531: UndefinedMetricWarning: Precision is ill-defined and being set to 0.0 in labels with no predicted samples. Use `zero_division` parameter to control this behavior.\n",
      "  _warn_prf(average, modifier, f\"{metric.capitalize()} is\", len(result))\n"
     ]
    }
   ],
   "source": [
    "# Combined model\n",
    "clf_c = RandomForestClassifier()\n",
    "clf_c.fit(X_train_c, y_train)\n",
    "y_pred_c = clf_c.predict(X_test_c)\n",
    "print(\"\\nCombined Model Performance\")\n",
    "print(classification_report(y_test, y_pred_c))"
   ]
  },
  {
   "cell_type": "markdown",
   "id": "3860cad5-ca96-4363-a77f-69c52d2d2776",
   "metadata": {},
   "source": [
    "### D. Interpretation & Insights:"
   ]
  },
  {
   "cell_type": "markdown",
   "id": "4816b211-b1b9-4d86-8072-91bdf4184abe",
   "metadata": {},
   "source": [
    "#### 1D. Feature Importance:"
   ]
  },
  {
   "cell_type": "code",
   "execution_count": 26,
   "id": "6bfa984c-d60d-485f-9a67-9186c797f785",
   "metadata": {},
   "outputs": [
    {
     "name": "stdout",
     "output_type": "stream",
     "text": [
      "Requirement already satisfied: shap in c:\\users\\dell\\anaconda3\\lib\\site-packages (0.47.1)\n",
      "Requirement already satisfied: numpy in c:\\users\\dell\\anaconda3\\lib\\site-packages (from shap) (1.26.4)\n",
      "Requirement already satisfied: scipy in c:\\users\\dell\\anaconda3\\lib\\site-packages (from shap) (1.13.1)\n",
      "Requirement already satisfied: scikit-learn in c:\\users\\dell\\anaconda3\\lib\\site-packages (from shap) (1.5.1)\n",
      "Requirement already satisfied: pandas in c:\\users\\dell\\anaconda3\\lib\\site-packages (from shap) (2.2.2)\n",
      "Requirement already satisfied: tqdm>=4.27.0 in c:\\users\\dell\\anaconda3\\lib\\site-packages (from shap) (4.66.5)\n",
      "Requirement already satisfied: packaging>20.9 in c:\\users\\dell\\anaconda3\\lib\\site-packages (from shap) (24.1)\n",
      "Requirement already satisfied: slicer==0.0.8 in c:\\users\\dell\\anaconda3\\lib\\site-packages (from shap) (0.0.8)\n",
      "Requirement already satisfied: numba>=0.54 in c:\\users\\dell\\anaconda3\\lib\\site-packages (from shap) (0.60.0)\n",
      "Requirement already satisfied: cloudpickle in c:\\users\\dell\\anaconda3\\lib\\site-packages (from shap) (3.0.0)\n",
      "Requirement already satisfied: typing-extensions in c:\\users\\dell\\anaconda3\\lib\\site-packages (from shap) (4.12.2)\n",
      "Requirement already satisfied: llvmlite<0.44,>=0.43.0dev0 in c:\\users\\dell\\anaconda3\\lib\\site-packages (from numba>=0.54->shap) (0.43.0)\n",
      "Requirement already satisfied: colorama in c:\\users\\dell\\anaconda3\\lib\\site-packages (from tqdm>=4.27.0->shap) (0.4.6)\n",
      "Requirement already satisfied: python-dateutil>=2.8.2 in c:\\users\\dell\\anaconda3\\lib\\site-packages (from pandas->shap) (2.9.0.post0)\n",
      "Requirement already satisfied: pytz>=2020.1 in c:\\users\\dell\\anaconda3\\lib\\site-packages (from pandas->shap) (2024.1)\n",
      "Requirement already satisfied: tzdata>=2022.7 in c:\\users\\dell\\anaconda3\\lib\\site-packages (from pandas->shap) (2023.3)\n",
      "Requirement already satisfied: joblib>=1.2.0 in c:\\users\\dell\\anaconda3\\lib\\site-packages (from scikit-learn->shap) (1.4.2)\n",
      "Requirement already satisfied: threadpoolctl>=3.1.0 in c:\\users\\dell\\anaconda3\\lib\\site-packages (from scikit-learn->shap) (3.5.0)\n",
      "Requirement already satisfied: six>=1.5 in c:\\users\\dell\\anaconda3\\lib\\site-packages (from python-dateutil>=2.8.2->pandas->shap) (1.16.0)\n"
     ]
    }
   ],
   "source": [
    "!pip install shap"
   ]
  },
  {
   "cell_type": "code",
   "execution_count": 27,
   "id": "abf69c71-d178-49d1-a432-b07cf5cd68d3",
   "metadata": {},
   "outputs": [
    {
     "data": {
      "image/png": "[encoded data removed]",
      "text/plain": [
       "<Figure size 800x950 with 1 Axes>"
      ]
     },
     "metadata": {},
     "output_type": "display_data"
    }
   ],
   "source": [
    "import shap\n",
    "explainer = shap.TreeExplainer(clf_c)\n",
    "shap_values = explainer.shap_values(X_combined)\n",
    "shap.summary_plot(shap_values, X_combined, plot_type=\"bar\")"
   ]
  },
  {
   "cell_type": "markdown",
   "id": "094801ee-4994-4e6c-81f5-148f892f3c5f",
   "metadata": {},
   "source": [
    "#### 2D. NLP Insights:"
   ]
  },
  {
   "cell_type": "code",
   "execution_count": 28,
   "id": "47fe7fc4-486b-49b8-b8d9-baa3bc3e8643",
   "metadata": {},
   "outputs": [
    {
     "data": {
      "image/png": "[encoded data removed]",
      "text/plain": [
       "<Figure size 640x480 with 1 Axes>"
      ]
     },
     "metadata": {},
     "output_type": "display_data"
    }
   ],
   "source": [
    "##  Visualize sentiment vs. ratings\n",
    "sns.boxplot(x=df['Rating'], y=df['sentiment_polarity'])\n",
    "plt.title('Sentiment Polarity vs. Rating')\n",
    "plt.xticks(rotation=45)\n",
    "plt.show()"
   ]
  },
  {
   "cell_type": "markdown",
   "id": "e1460078-5fb9-41b4-b383-4418fe02da09",
   "metadata": {},
   "source": [
    "#### 3D. Business Context:"
   ]
  },
  {
   "cell_type": "code",
   "execution_count": 29,
   "id": "d5df7d3f-6a1c-49cf-9a26-0f016016aec6",
   "metadata": {},
   "outputs": [
    {
     "name": "stdout",
     "output_type": "stream",
     "text": [
      "\n",
      "Business Insight: Negative sentiment in textual data correlates with lower credit ratings, indicating that sentiment analysis could be a valuable early warning signal.\n"
     ]
    }
   ],
   "source": [
    "print(\"\\nBusiness Insight: Negative sentiment in textual data correlates with lower credit ratings, indicating that sentiment analysis could be a valuable early warning signal.\")"
   ]
  },
  {
   "cell_type": "markdown",
   "id": "5d6f92ac-0f7a-4a44-8ee3-32c6c6ecb9ab",
   "metadata": {},
   "source": [
    "## Results and Analysis:"
   ]
  },
  {
   "cell_type": "raw",
   "id": "e65e6e1a-7dd0-428c-a793-c3bb64102e90",
   "metadata": {},
   "source": [
    "1. Negative sentiment in textual data correlates with lower credit ratings, indicating that sentiment analysis could be a valuable early warning signal.\n",
    "2. Combining market data with NLP leads to more accurate and explainable credit risk predictions."
   ]
  }
 ],
 "metadata": {
  "kernelspec": {
   "display_name": "Python 3 (ipykernel)",
   "language": "python",
   "name": "python3"
  },
  "language_info": {
   "codemirror_mode": {
    "name": "ipython",
    "version": 3
   },
   "file_extension": ".py",
   "mimetype": "text/x-python",
   "name": "python",
   "nbconvert_exporter": "python",
   "pygments_lexer": "ipython3",
   "version": "3.12.7"
  }
 },
 "nbformat": 4,
 "nbformat_minor": 5
}
